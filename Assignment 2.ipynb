{
 "cells": [
  {
   "cell_type": "markdown",
   "id": "965866f7-91c5-473b-b2ee-0d92360b7f71",
   "metadata": {},
   "source": [
    "# Question 1: Age Group Classification\n",
    "##### Write a Python program that takes the age of a person as input and classifies them into one of the\n",
    "##### following age groups:\n",
    "##### \"Child\" if the age is between 0 and 12 (inclusive).\n",
    "##### \"Teenager\" if the age is between 13 and 19 (inclusive).\n",
    "##### \"Adult\" if the age is between 20 and 64 (inclusive).\n",
    "##### \"Senior\" if the age is 65 or older."
   ]
  },
  {
   "cell_type": "code",
   "execution_count": 27,
   "id": "ced3b226-5020-44f6-8a17-83256c73ff62",
   "metadata": {},
   "outputs": [
    {
     "name": "stdin",
     "output_type": "stream",
     "text": [
      "Enter the age:  27\n"
     ]
    },
    {
     "name": "stdout",
     "output_type": "stream",
     "text": [
      "Adult\n"
     ]
    }
   ],
   "source": [
    "age = int(input(\"Enter the age: \"))\n",
    "if (age < 0):\n",
    "    print(\"Invalid age\")\n",
    "    \n",
    "elif  (age > 0 and age <= 12):\n",
    "    print(\"Teenager\")\n",
    "    \n",
    "elif  (age > 13 and age <= 19):\n",
    "    print(\"Adult\")\n",
    "\n",
    "elif  (age > 20 and age <= 64):\n",
    "    print(\"Adult\")\n",
    "\n",
    "else:\n",
    "    print(\"Senior\")"
   ]
  },
  {
   "cell_type": "markdown",
   "id": "91faa5c7-71ae-4cd7-b356-2860f6cc3df9",
   "metadata": {},
   "source": [
    "# Question 2: Checking for Eligibility for Discount\n",
    "##### Write a Python program that determines if a customer is eligible for a discount. The program should\n",
    "##### take the customer&#39;s membership status and purchase amount as input and check the following\n",
    "##### conditions:\n",
    "##### The customer is a &quot;premium&quot; member and the purchase amount is greater than or equal to 1000.\n",
    "##### The customer is a &quot;regular&quot; member and the purchase amount is greater than or equal to 2000.\n",
    "##### If the customer meets either of the above conditions, print &quot;Eligible for discount&quot;, otherwise print\n",
    "##### &quot;Not eligible for discount&quot;."
   ]
  },
  {
   "cell_type": "code",
   "execution_count": 30,
   "id": "15da4f05-6ea9-45ab-8018-84c2716dd3b7",
   "metadata": {},
   "outputs": [
    {
     "name": "stdin",
     "output_type": "stream",
     "text": [
      "Enter membership status (Premium/Regular):  premium\n",
      "Enter the purchase amount:  1500\n"
     ]
    },
    {
     "name": "stdout",
     "output_type": "stream",
     "text": [
      "Eligible for discount\n"
     ]
    }
   ],
   "source": [
    "membership = input(\"Enter membership status (Premium/Regular): \").lower()\n",
    "amount = int(input(\"Enter the purchase amount: \"))\n",
    "\n",
    "if (membership == \"premium\" and amount >= 1000) or (membership == \"regular\" and amount >= 2000):\n",
    "    print(\"Eligible for discount\")\n",
    "\n",
    "else:\n",
    "    print(\"Not eligible for discount\")"
   ]
  },
  {
   "cell_type": "markdown",
   "id": "9f14e8b9-7205-428b-bf99-ac514518fca3",
   "metadata": {},
   "source": [
    "# Question 3: Voting Eligibility Check\n",
    "##### Write a Python program that checks if a person is eligible to vote based on their age and citizenship\n",
    "##### status. The program should take the following inputs:\n",
    "##### Age (an integer).\n",
    "##### Citizenship status (a string: either &quot;citizen&quot; or &quot;non-citizen&quot;).\n",
    "\n",
    "##### The eligibility conditions are:\n",
    "##### The person must be at least 18 years old and a &quot;citizen&quot; to be eligible to vote.\n",
    "##### Alternatively, the person can be at least 16 years old and a &quot;citizen&quot; of a special region where voting is\n",
    "##### allowed from age 16.\n",
    "\n",
    "##### If the person meets either of the conditions, print &quot;Eligible to vote&quot;, otherwise print &quot;Not eligible to\n",
    "##### vote&quot;."
   ]
  },
  {
   "cell_type": "code",
   "execution_count": 33,
   "id": "228727dd-c256-46c1-b7cf-6f0ba88e14f3",
   "metadata": {},
   "outputs": [
    {
     "name": "stdin",
     "output_type": "stream",
     "text": [
      "Enter the age:  17\n",
      "Enter your citizenship status (citizen/non-citizen):  citizen\n"
     ]
    },
    {
     "name": "stdout",
     "output_type": "stream",
     "text": [
      "Eligible to vote (because of the special region rule)\n"
     ]
    }
   ],
   "source": [
    "age = int(input(\"Enter the age: \"))\n",
    "citizenship_status = input(\"Enter your citizenship status (citizen/non-citizen): \").lower()\n",
    "if (age >= 18  and citizenship_status == \"citizen\"):\n",
    "    print(\"Eligible to vote\")\n",
    "\n",
    "elif (age >= 16 and age < 18) and (citizenship_status == \"citizen\"):\n",
    "     print(\"Eligible to vote (because of the special region rule)\")\n",
    "\n",
    "else:\n",
    "    print (\"Not eligible \")"
   ]
  },
  {
   "cell_type": "markdown",
   "id": "32435ea6-c7aa-4f23-9505-24a8b389dc99",
   "metadata": {},
   "source": [
    "# Question 4: Employee Salary Bonus Eligibility\n",
    "##### Write a Python program that determines if an employee is eligible for a salary bonus based on the\n",
    "##### following conditions:\n",
    "##### The employee&#39;s performance rating is &quot;Excellent&quot; and their years of service are greater than or equal\n",
    "##### to 5 years.\n",
    "##### The employee&#39;s performance rating is &quot;Good&quot; and their years of service are greater than or equal to\n",
    "##### 10 years.\n",
    "##### The employee&#39;s performance rating is &quot;Satisfactory&quot; or their years of service are greater than or\n",
    "##### equal to 15 years.\n",
    "##### The employee is not eligible for a bonus if neither of these conditions is met.\n",
    "##### The program should print one of the following:\n",
    "##### &quot;Eligible for bonus&quot; if the employee meets any of the criteria.\n",
    "##### &quot;Not eligible for bonus&quot; if none of the conditions apply."
   ]
  },
  {
   "cell_type": "code",
   "execution_count": 36,
   "id": "a1dbb28c-2a2c-4b62-871e-3bec98092b98",
   "metadata": {},
   "outputs": [
    {
     "name": "stdin",
     "output_type": "stream",
     "text": [
      "Enter performance rating (Excellent/Good/Satisfactory):  good\n",
      "Enter Year of Service:  15\n"
     ]
    },
    {
     "name": "stdout",
     "output_type": "stream",
     "text": [
      "Eligible for bonus\n"
     ]
    }
   ],
   "source": [
    "rating = input(\"Enter performance rating (Excellent/Good/Satisfactory): \").lower()\n",
    "yearOfservice = int(input(\"Enter Year of Service: \"))\n",
    "\n",
    "if(rating == \"excellent\" and yearOfservice >= 5) or (rating == \"good\" and yearOfservice >= 10) or (rating == \"satisfactory\" and yearOfservice >= 15):\n",
    "    print(\"Eligible for bonus\")\n",
    "\n",
    "else:\n",
    "    print(\"Not eligible for bonus\")"
   ]
  },
  {
   "cell_type": "markdown",
   "id": "d130339a-37e9-4ba0-bb51-3fbf1c0ae83d",
   "metadata": {},
   "source": [
    "# Question 5. Write a program that replaces spaces with underscores, counts how many underscores are\n",
    "##### there, and finds the position of the first underscore.\n",
    "##### Use text: &quot;I&#39;m learning Python programming&quot;?"
   ]
  },
  {
   "cell_type": "code",
   "execution_count": 39,
   "id": "25444965-ec81-45f4-996b-ecf229f5c240",
   "metadata": {},
   "outputs": [
    {
     "name": "stdout",
     "output_type": "stream",
     "text": [
      "Modified text: I'm_learning_Python_programming\n",
      "Number of underscores: 3\n",
      "Position of the first underscore: 3\n"
     ]
    }
   ],
   "source": [
    "text = \"I'm learning Python programming\"\n",
    "\n",
    "mod_text = text.replace(\" \", \"_\")\n",
    "\n",
    "underscore_count = mod_text.count(\"_\")\n",
    "\n",
    "first_underscore_position = mod_text.find(\"_\")\n",
    "\n",
    "print(\"Modified text:\", mod_text)\n",
    "print(\"Number of underscores:\", underscore_count)\n",
    "print(\"Position of the first underscore:\", first_underscore_position)"
   ]
  },
  {
   "cell_type": "markdown",
   "id": "94aed68b-7c35-495e-a262-bffeb7743605",
   "metadata": {},
   "source": [
    "# Question 6:\n",
    "##### Write a Python program that:\n",
    "##### Takes a string as input.\n",
    "##### Prints all characters of the string except the last 3 using slicing.\n",
    "##### Prints every second character of the string using slicing.\n",
    "##### Prints the string in reverse using slicing"
   ]
  },
  {
   "cell_type": "code",
   "execution_count": 44,
   "id": "050bd710-5e30-436f-966b-463da76b1bc5",
   "metadata": {},
   "outputs": [
    {
     "name": "stdin",
     "output_type": "stream",
     "text": [
      "Enter a string:  Rao Jehanzaib\n"
     ]
    },
    {
     "name": "stdout",
     "output_type": "stream",
     "text": [
      "All characters except the last 3: Rao Jehanz\n",
      "Every second character: RoJhnab\n",
      "String in reverse: biaznaheJ oaR\n"
     ]
    }
   ],
   "source": [
    "input_string = input(\"Enter a string: \")\n",
    "\n",
    "print(\"All characters except the last 3:\", input_string[:-3])\n",
    "\n",
    "print(\"Every second character:\", input_string[::2])\n",
    "\n",
    "print(\"String in reverse:\", input_string[::-1])"
   ]
  },
  {
   "cell_type": "markdown",
   "id": "3915c0ec-840f-479d-90ab-570202b3f400",
   "metadata": {},
   "source": [
    "# Question 7. Given a sentence, you need to reverse the order of the words in the sentence while\n",
    "##### preserving their original capitalization and spaces.\n",
    "##### Use text : &quot;Hello World, We are learning Python&quot;"
   ]
  },
  {
   "cell_type": "code",
   "execution_count": 55,
   "id": "855042f7-875a-4f77-9379-f19b59dfab1e",
   "metadata": {},
   "outputs": [
    {
     "name": "stdout",
     "output_type": "stream",
     "text": [
      "Reversed sentence: Python learning are We World, Hello\n"
     ]
    }
   ],
   "source": [
    "sentence = \"Hello World, We are learning Python\"\n",
    "\n",
    "words = (sentence.split()[::-1])\n",
    "\n",
    "sentence = \" \".join(words)\n",
    "\n",
    "print(\"Reversed sentence:\", sentence)\n"
   ]
  },
  {
   "cell_type": "markdown",
   "id": "e7d27882-8142-4d79-a980-3694dd8d2838",
   "metadata": {},
   "source": [
    "# Question 8. You have a product code that follows the format &quot;SKU-12345-XYZ&quot;. You need to:\n",
    "##### Remove the &quot;SKU-&quot; and the &quot;-XYZ&quot; from the product code. Extract and return the number"
   ]
  },
  {
   "cell_type": "code",
   "execution_count": 58,
   "id": "099b28a7-c8cc-4e90-b3be-c5c9d456bc57",
   "metadata": {},
   "outputs": [
    {
     "name": "stdout",
     "output_type": "stream",
     "text": [
      "Extracted number: 12345\n"
     ]
    }
   ],
   "source": [
    "product = \"SKU-12345-XYZ\"\n",
    "\n",
    "number = product[4:-4]\n",
    "\n",
    "print(\"Extracted number:\", number)"
   ]
  },
  {
   "cell_type": "markdown",
   "id": "f9477643-e711-4f4f-a16d-8b3593f12579",
   "metadata": {},
   "source": [
    "# Question 9. Write a Python program to check user password has following:\n",
    "##### Whether the string contains any uppercase characters. Whether the string contains any lowercase\n",
    "##### characters. Whether the string contains any spaces. Whether the string contains any special\n",
    "##### characters (anything other than letters, digits, and spaces)."
   ]
  },
  {
   "cell_type": "code",
   "execution_count": 5,
   "id": "50310bbd-88c7-42ee-9e24-6dcd114f0000",
   "metadata": {},
   "outputs": [
    {
     "name": "stdin",
     "output_type": "stream",
     "text": [
      "Enter Password:  R@o 123\n"
     ]
    },
    {
     "name": "stdout",
     "output_type": "stream",
     "text": [
      "Uppercase characters used: True\n",
      "Lowercase characters used: True\n",
      "Spaces used: True\n",
      "Special characters used: True\n"
     ]
    }
   ],
   "source": [
    "password = input(\"Enter Password: \")\n",
    "upper = password != password.lower()\n",
    "lower = password != password.upper()\n",
    "space = password.count(\" \") > 0\n",
    "special = not password.replace(\" \",\"\").isalnum()\n",
    "\n",
    "print(\"Uppercase characters used: \" + str(upper))\n",
    "print(\"Lowercase characters used: \" + str(lower))\n",
    "print(\"Spaces used: \" + str(space))\n",
    "print(\"Special characters used: \" + str(special))\n"
   ]
  },
  {
   "cell_type": "markdown",
   "id": "8930b8d0-d2d1-424e-adde-2293f197c0c8",
   "metadata": {},
   "source": [
    "# Question 10: Find the Longest Word\n",
    "##### Write a Python program that finds the longest word in a given string.\n",
    "##### Example:\n",
    "##### Input: &quot;I love programming in Python&quot;\n",
    "##### Output: &quot;programming&quot;"
   ]
  },
  {
   "cell_type": "code",
   "execution_count": 64,
   "id": "6efa14dc-5ce7-4af8-b703-d48bda85f9d5",
   "metadata": {},
   "outputs": [
    {
     "name": "stdin",
     "output_type": "stream",
     "text": [
      "Enter a sentence:  i love programing in python\n"
     ]
    },
    {
     "name": "stdout",
     "output_type": "stream",
     "text": [
      "programing\n"
     ]
    }
   ],
   "source": [
    "sentence = input(\"Enter a sentence: \")\n",
    "print(max(sentence.split(), key=len))"
   ]
  },
  {
   "cell_type": "code",
   "execution_count": null,
   "id": "a73b68ca-d8a9-4c06-be21-b48c84f03fff",
   "metadata": {},
   "outputs": [],
   "source": []
  }
 ],
 "metadata": {
  "kernelspec": {
   "display_name": "Python 3 (ipykernel)",
   "language": "python",
   "name": "python3"
  },
  "language_info": {
   "codemirror_mode": {
    "name": "ipython",
    "version": 3
   },
   "file_extension": ".py",
   "mimetype": "text/x-python",
   "name": "python",
   "nbconvert_exporter": "python",
   "pygments_lexer": "ipython3",
   "version": "3.12.7"
  }
 },
 "nbformat": 4,
 "nbformat_minor": 5
}
