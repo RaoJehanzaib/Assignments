{
 "cells": [
  {
   "cell_type": "markdown",
   "id": "673f2232-663c-40ff-88de-7417cd7958f4",
   "metadata": {},
   "source": [
    "# Q #1\n",
    "##### What is the length of the salaries list.\n"
   ]
  },
  {
   "cell_type": "code",
   "execution_count": 4,
   "id": "2a333599-3a97-44eb-864e-7b5f83d5e4ba",
   "metadata": {},
   "outputs": [
    {
     "data": {
      "text/plain": [
       "7"
      ]
     },
     "execution_count": 4,
     "metadata": {},
     "output_type": "execute_result"
    }
   ],
   "source": [
    "salaries = ['20k', '40k', '50k', '60k', '35k', '89k','40k']\n",
    "len(salaries)"
   ]
  },
  {
   "cell_type": "markdown",
   "id": "b22ef20c-5100-442d-9ff6-d0247d81a7f1",
   "metadata": {},
   "source": [
    "# Q #2\n",
    "##### Retrieve the third salary in the list by using index."
   ]
  },
  {
   "cell_type": "code",
   "execution_count": 7,
   "id": "90660c87-33a8-43f3-ba21-402a0680c2d8",
   "metadata": {},
   "outputs": [
    {
     "data": {
      "text/plain": [
       "'50k'"
      ]
     },
     "execution_count": 7,
     "metadata": {},
     "output_type": "execute_result"
    }
   ],
   "source": [
    "salaries[2]"
   ]
  },
  {
   "cell_type": "markdown",
   "id": "f3240c9f-5954-4fa6-a2ed-37a4864c46e8",
   "metadata": {},
   "source": [
    "# Q #3\n",
    "##### Extract the last salary from the list by using a negative index."
   ]
  },
  {
   "cell_type": "code",
   "execution_count": 12,
   "id": "5e0ac42e-5e26-418d-870f-f41d52136ba3",
   "metadata": {},
   "outputs": [
    {
     "data": {
      "text/plain": [
       "'40k'"
      ]
     },
     "execution_count": 12,
     "metadata": {},
     "output_type": "execute_result"
    }
   ],
   "source": [
    "salaries[-1]"
   ]
  },
  {
   "cell_type": "markdown",
   "id": "3bd3b303-e1e2-46d9-93ee-3ec886cef478",
   "metadata": {},
   "source": [
    "# Q #4\n",
    "##### Slice the salaries list to get only the middle three salaries."
   ]
  },
  {
   "cell_type": "code",
   "execution_count": 15,
   "id": "86a1106c-22b9-42b2-ac12-cde0d844bfdb",
   "metadata": {},
   "outputs": [
    {
     "name": "stdout",
     "output_type": "stream",
     "text": [
      "['50k', '60k', '35k']\n"
     ]
    }
   ],
   "source": [
    "middle_salaries = salaries[2:5]\n",
    "print(middle_salaries)"
   ]
  },
  {
   "cell_type": "markdown",
   "id": "1ac8a9e9-1140-4537-ba5f-e84392165e5f",
   "metadata": {},
   "source": [
    "# Q #5\n",
    "##### Add a new salary to the list, ‘100k’ by using append() method."
   ]
  },
  {
   "cell_type": "code",
   "execution_count": 18,
   "id": "5392d804-8cd7-4458-baaa-ad6d1fc65524",
   "metadata": {},
   "outputs": [
    {
     "name": "stdout",
     "output_type": "stream",
     "text": [
      "['20k', '40k', '50k', '60k', '35k', '89k', '40k', '100k']\n"
     ]
    }
   ],
   "source": [
    "salaries = ['20k', '40k', '50k', '60k', '35k', '89k', '40k']\n",
    "salaries.append('100k')\n",
    "print(salaries)"
   ]
  },
  {
   "cell_type": "markdown",
   "id": "c53ce14a-d01a-4e85-8bf7-09d5640934a9",
   "metadata": {},
   "source": [
    "# Q #6\n",
    "##### Add a new salary to the list, ‘120k’ without method."
   ]
  },
  {
   "cell_type": "code",
   "execution_count": 21,
   "id": "7571b55d-33db-47de-979e-d198a572bb95",
   "metadata": {},
   "outputs": [
    {
     "name": "stdout",
     "output_type": "stream",
     "text": [
      "['20k', '40k', '50k', '60k', '35k', '89k', '40k', '100k', '120k']\n"
     ]
    }
   ],
   "source": [
    "salaries += [\"120k\"]\n",
    "print(salaries)"
   ]
  },
  {
   "cell_type": "markdown",
   "id": "de608400-9893-4a70-b205-26fe68240aef",
   "metadata": {},
   "source": [
    "# Q #7\n",
    "##### Replace the third salary in the list with '55k' and print the updated list."
   ]
  },
  {
   "cell_type": "code",
   "execution_count": 26,
   "id": "cf77423e-5942-43eb-9629-87080bdffb97",
   "metadata": {},
   "outputs": [
    {
     "name": "stdout",
     "output_type": "stream",
     "text": [
      "['20k', '40k', '55k', '60k', '35k', '89k', '40k', '100k', '120k']\n"
     ]
    }
   ],
   "source": [
    "salaries[2] = '55k'\n",
    "print(salaries)"
   ]
  },
  {
   "cell_type": "markdown",
   "id": "8959b41a-9fad-4952-a393-8d9df3076986",
   "metadata": {},
   "source": [
    "# Q #8\n",
    "##### Count how many times '40k' appears in the list."
   ]
  },
  {
   "cell_type": "code",
   "execution_count": 29,
   "id": "9af26d06-49d9-4dfc-a5d4-b63fbb75a083",
   "metadata": {},
   "outputs": [
    {
     "data": {
      "text/plain": [
       "2"
      ]
     },
     "execution_count": 29,
     "metadata": {},
     "output_type": "execute_result"
    }
   ],
   "source": [
    "salaries.count(\"40k\")"
   ]
  },
  {
   "cell_type": "markdown",
   "id": "ef0262cd-e0eb-4057-85ae-886e8582039c",
   "metadata": {},
   "source": [
    "# Q #9\n",
    "#####  Insert a new salary at the second position."
   ]
  },
  {
   "cell_type": "code",
   "execution_count": 32,
   "id": "5f95c714-9c43-4a2f-973b-ec1aa8c55d5a",
   "metadata": {},
   "outputs": [
    {
     "name": "stdout",
     "output_type": "stream",
     "text": [
      "['20k', '45k', '40k', '55k', '60k', '35k', '89k', '40k', '100k', '120k']\n"
     ]
    }
   ],
   "source": [
    "salaries.insert(1,\"45k\")\n",
    "print(salaries)"
   ]
  },
  {
   "cell_type": "markdown",
   "id": "7f1ad010-029a-4498-995f-f95451b89781",
   "metadata": {},
   "source": [
    "# Q #10\n",
    "#####  Reverse the order of the salaries list with method."
   ]
  },
  {
   "cell_type": "code",
   "execution_count": 35,
   "id": "4499526b-489c-4ecf-9279-2995b5a37b41",
   "metadata": {},
   "outputs": [
    {
     "name": "stdout",
     "output_type": "stream",
     "text": [
      "['120k', '100k', '40k', '89k', '35k', '60k', '55k', '40k', '45k', '20k']\n"
     ]
    }
   ],
   "source": [
    "salaries.reverse()\n",
    "print(salaries)"
   ]
  },
  {
   "cell_type": "markdown",
   "id": "50899f5e-8774-478b-aae8-886fdc7d81ee",
   "metadata": {},
   "source": [
    "# Q #11\n",
    "#####  Reverse the order of the salaries list without method."
   ]
  },
  {
   "cell_type": "code",
   "execution_count": 38,
   "id": "721a3936-4e68-49b2-821e-20fc44e8f8ed",
   "metadata": {},
   "outputs": [
    {
     "name": "stdout",
     "output_type": "stream",
     "text": [
      "['20k', '45k', '40k', '55k', '60k', '35k', '89k', '40k', '100k', '120k']\n"
     ]
    }
   ],
   "source": [
    "salaries = salaries [::-1]\n",
    "print(salaries)"
   ]
  }
 ],
 "metadata": {
  "kernelspec": {
   "display_name": "Python 3 (ipykernel)",
   "language": "python",
   "name": "python3"
  },
  "language_info": {
   "codemirror_mode": {
    "name": "ipython",
    "version": 3
   },
   "file_extension": ".py",
   "mimetype": "text/x-python",
   "name": "python",
   "nbconvert_exporter": "python",
   "pygments_lexer": "ipython3",
   "version": "3.12.7"
  }
 },
 "nbformat": 4,
 "nbformat_minor": 5
}
