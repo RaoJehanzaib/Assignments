{
 "cells": [
  {
   "cell_type": "markdown",
   "id": "5b7928a5-299a-413e-ba31-5ec15a5251ca",
   "metadata": {},
   "source": [
    "# Q1. Write program to check a person’s eligibility for a loan based on age, credit score, and income. This time, the\n",
    "##### eligibility criteria will be:\n",
    "##### The person must be 18 years or older. The person must have a credit score of 650 or higher. The person must have\n",
    "##### an annual income of at least 30000 dollars If the person has a credit score of 700 or higher, they may still be eligible\n",
    "##### with an income of 25000 dollars or more."
   ]
  },
  {
   "cell_type": "code",
   "execution_count": 14,
   "id": "f76cb6df-31d5-44b8-88ff-eb1fbf6f1a6d",
   "metadata": {},
   "outputs": [
    {
     "name": "stdin",
     "output_type": "stream",
     "text": [
      "Enter Age:  20\n",
      "Enter Credit Score:  699\n",
      "Enter Income:  30000\n"
     ]
    },
    {
     "name": "stdout",
     "output_type": "stream",
     "text": [
      "You are eligible for a loan. \n"
     ]
    }
   ],
   "source": [
    "age = int(input(\"Enter Age: \"))\n",
    "credit_score = int(input(\"Enter Credit Score: \"))\n",
    "income = float(input(\"Enter Income: \"))\n",
    "\n",
    "if(age <  18):\n",
    "    print(\"Not eligible for Loan becouse you are under 18 years old. \")\n",
    "\n",
    "else:\n",
    "    \n",
    "    if(credit_score >= 700):\n",
    "        if(income >= 25000):\n",
    "            print(\"You are eligible for a loan. \")\n",
    "        else:\n",
    "            print(\"Not eligible: Must have an income of at least $25,000.\")\n",
    "\n",
    "    elif(credit_score >= 650):\n",
    "        if(income >= 30000):\n",
    "            print(\"You are eligible for a loan. \")\n",
    "        else:\n",
    "            print(\"Not eligible: Must have an income of at least 30,000.\")\n",
    "    else:\n",
    "        print(\"Not eligible: Must have a credit score of at least 650.\")"
   ]
  },
  {
   "cell_type": "markdown",
   "id": "e1d99f50-f95a-461f-937f-60c6e0d7bdfe",
   "metadata": {},
   "source": [
    "# Q2. Write a Python program that checks if a person is an adult (age ≥ 18).\n",
    "##### Take the age as input.\n",
    "##### If the person is underage (age &lt; 18), show message: &quot;You are underage&quot; and don&#39;t ask for experience.\n",
    "##### If the person is an adult, take years of experience as input and print:\n",
    "##### &quot;You have a lot of experience.&quot; (10+ years)\n",
    "##### &quot;You have moderate experience.&quot; (5-9 years)\n",
    "##### &quot;You are relatively new.&quot; (2-4 years)\n",
    "##### &quot;You are just starting out.&quot; (less than 2 years)"
   ]
  },
  {
   "cell_type": "code",
   "execution_count": 3,
   "id": "80377762-2b5c-44b7-bfa6-7b20d9428619",
   "metadata": {},
   "outputs": [
    {
     "name": "stdin",
     "output_type": "stream",
     "text": [
      "Enter Age:  17\n"
     ]
    },
    {
     "name": "stdout",
     "output_type": "stream",
     "text": [
      "You are underage \n"
     ]
    }
   ],
   "source": [
    "age = int(input(\"Enter Age: \"))\n",
    "\n",
    "\n",
    "if (age < 18):\n",
    "    print(\"You are underage \")\n",
    "\n",
    "else:\n",
    "    experience = float(input(\"Enter Experience: \"))\n",
    "\n",
    "    if(experience >= 10):\n",
    "        print(\"You have a lot of experience. \")\n",
    "    \n",
    "    elif(experience >= 5):\n",
    "        print(\"You have moderate experience. \")\n",
    "\n",
    "    elif(experience >= 2): \n",
    "        print(\"You are relatively new. \")\n",
    "    else:\n",
    "         print(\"You are just starting out.\")"
   ]
  },
  {
   "cell_type": "markdown",
   "id": "0dcc62b6-51c8-4d1d-ba63-f5e4a034483b",
   "metadata": {},
   "source": [
    "# Q3. Write a program to explore below variables\n",
    "##### a) Print their memory address (to check if python assigns same address of different variables having same element)\n",
    "##### b) Find memory size and append them in a list, use this list to find data type having least memory size\n",
    "##### c) Print final name of data type which has lowest memory\n",
    "##### Result will help a programmer to decide which variable is storing less memory and variable locations"
   ]
  },
  {
   "cell_type": "code",
   "execution_count": 133,
   "id": "8bd6a65d-ce86-4d9a-bb2f-30a7e2bf7bfb",
   "metadata": {},
   "outputs": [
    {
     "name": "stdout",
     "output_type": "stream",
     "text": [
      "Memory address of Integer (100): 140721126389272\n",
      "Memory address of Integer (100): 140721126389272\n",
      "Memory address of Float (3.14): 2361197143408\n",
      "Memory address of String ('Hello, World!'): 2361196841136\n",
      "Memory address of List ([1, 2, 3]): 2361196603648\n",
      "Memory address of Tuple ((1, 2, 3)): 2361172552768\n",
      "Memory address of Dictionary ({'a': 1, 'b': 2}): 2361196603776\n",
      "Memory address of Boolean (True): 140721125260160\n",
      "\n",
      "Data type with the least memory size: Float with 24 bytes\n"
     ]
    }
   ],
   "source": [
    "import sys\n",
    "\n",
    "data_types = [\"Integer\", \"Integer\", \"Float\", \"String\", \"List\", \"Tuple\", \"Dictionary\", \"Boolean\"]\n",
    "\n",
    "var1 = 100               \n",
    "var2 = 100                \n",
    "var3 = 3.14              \n",
    "var4 = \"Hello, World!\"    \n",
    "var5 = [1, 2, 3]          \n",
    "var6 = (1, 2, 3)          \n",
    "var7 = {'a': 1, 'b': 2}   \n",
    "var8 = True               \n",
    "\n",
    "print(\"Memory address of Integer (100): \" + str(id(var1)))\n",
    "print(\"Memory address of Integer (100): \" + str(id(var2)))\n",
    "print(\"Memory address of Float (3.14): \" + str(id(var3)))\n",
    "print(\"Memory address of String ('Hello, World!'): \" + str(id(var4)))\n",
    "print(\"Memory address of List ([1, 2, 3]): \" + str(id(var5)))\n",
    "print(\"Memory address of Tuple ((1, 2, 3)): \" + str(id(var6)))\n",
    "print(\"Memory address of Dictionary ({'a': 1, 'b': 2}): \" + str(id(var7)))\n",
    "print(\"Memory address of Boolean (True): \" + str(id(var8)))\n",
    "\n",
    "memory_sizes = [\n",
    "    sys.getsizeof(var1),  \n",
    "    sys.getsizeof(var2),  \n",
    "    sys.getsizeof(var3), \n",
    "    sys.getsizeof(var4),  \n",
    "    sys.getsizeof(var5), \n",
    "    sys.getsizeof(var6),  \n",
    "    sys.getsizeof(var7),  \n",
    "    sys.getsizeof(var8)   \n",
    "]\n",
    "\n",
    "\n",
    "min_memory = min(memory_sizes)  \n",
    "min_memory_index = memory_sizes.index(min_memory)  \n",
    "\n",
    "\n",
    "print(\"\\nData type with the least memory size: \" + data_types[min_memory_index] + \" with \" + str(min_memory) + \" bytes\")\n",
    "\n",
    "\n"
   ]
  },
  {
   "cell_type": "markdown",
   "id": "158e5ce9-37a0-4a1b-bee7-e47c4a7fdc54",
   "metadata": {},
   "source": [
    "# Q4. Write a Python program that asks the user to enter an email address. The program should check if the email\n",
    "##### contains the characters @ and &quot;.&quot; (ignoring case). If either character is present, print &quot;Email format is valid.&quot;\n",
    "##### Otherwise, print &quot;Invalid email format.&quot;"
   ]
  },
  {
   "cell_type": "code",
   "execution_count": 48,
   "id": "a3bbe23e-8283-4e86-b057-7a27c4e43cae",
   "metadata": {},
   "outputs": [
    {
     "name": "stdin",
     "output_type": "stream",
     "text": [
      "Enter an email address:  rao@gmail.com\n"
     ]
    },
    {
     "name": "stdout",
     "output_type": "stream",
     "text": [
      "Email format is valid. \n"
     ]
    }
   ],
   "source": [
    "email = input(\"Enter an email address: \")\n",
    "\n",
    "if('@' in email and '.' in email):\n",
    "    print(\"Email format is valid. \")\n",
    "else:\n",
    "    print(\"Invalid email format.\")"
   ]
  },
  {
   "cell_type": "markdown",
   "id": "7f98a10e-d0d4-4482-9bf2-2661983fe44b",
   "metadata": {},
   "source": [
    "# Q5. Write a python program to know data type of each element stored in a tuple, append the data types in a list.\n",
    "##### Show final output in a list as data types of tuple elements\n",
    "##### x = (11,22.333,&#39;apple&#39;,[1,2,3],(&#39;a&#39;,&#39;b&#39;))"
   ]
  },
  {
   "cell_type": "code",
   "execution_count": 59,
   "id": "1daee5e2-ddba-498c-80ac-34845959aa8c",
   "metadata": {},
   "outputs": [
    {
     "name": "stdout",
     "output_type": "stream",
     "text": [
      "Data types of tuple elements: [<class 'int'>, <class 'float'>, <class 'str'>, <class 'list'>, <class 'tuple'>]\n"
     ]
    }
   ],
   "source": [
    "x = (11, 22.333, 'apple', [1, 2, 3], ('a', 'b'))\n",
    "\n",
    "data_types = [type(x[0]), type(x[1]), type(x[2]), type(x[3]), type(x[4])]\n",
    "\n",
    "print(\"Data types of tuple elements:\", data_types)\n"
   ]
  },
  {
   "cell_type": "markdown",
   "id": "4440bac2-6882-434e-9321-eda921acd7f1",
   "metadata": {},
   "source": [
    "# Q6. Write a Python program that:\n",
    "##### Checks if a given username exists in a list of active users.\n",
    "##### Verifies if the user is the admin using identity operators.\n",
    "##### Hints:\n",
    "##### Use a list of tuples where each tuple contains a username and role\n",
    "##### [(&quot;alice&quot;, &quot;admin&quot;),\n",
    "##### (&quot;bob&quot;, &quot;user&quot;),\n",
    "##### (&quot;charlie&quot;, &quot;moderator&quot;)]\n",
    "##### Use the in operator to check if the username exists in the list.\n",
    "##### Use the is operator to check if the user is the admin (admin is a specific reference, e.g., (&quot;alice&quot;, &quot;admin&quot;))."
   ]
  },
  {
   "cell_type": "code",
   "execution_count": 15,
   "id": "45fa32d5-f0eb-4d26-bb3a-be395807f994",
   "metadata": {},
   "outputs": [
    {
     "name": "stdin",
     "output_type": "stream",
     "text": [
      "Enter your username:  bob\n"
     ]
    },
    {
     "name": "stdout",
     "output_type": "stream",
     "text": [
      "Welcome bob, you are not the admin.\n"
     ]
    }
   ],
   "source": [
    "active_users = [(\"alice\", \"admin\"), (\"bob\", \"user\"), (\"charlie\", \"moderator\")]\n",
    "\n",
    "username = input(\"Enter your username: \")\n",
    "\n",
    "user_tuple = None\n",
    "\n",
    "if username == active_users[0][0]:\n",
    "    user_tuple = active_users[0]\n",
    "elif username == active_users[1][0]:\n",
    "    user_tuple = active_users[1]\n",
    "elif username == active_users[2][0]:\n",
    "    user_tuple = active_users[2]\n",
    "\n",
    "if user_tuple:\n",
    "    if user_tuple is active_users[0]:  \n",
    "        print(\"Welcome \" + username + \", you are the admin!\")\n",
    "    else:\n",
    "        print(\"Welcome \" + username + \", you are not the admin.\")\n",
    "else:\n",
    "    print(\"Username \" + username + \" does not exist.\")\n",
    "\n"
   ]
  },
  {
   "cell_type": "markdown",
   "id": "00e8001c-8ea1-4b8d-929d-1c4b1cba6f09",
   "metadata": {},
   "source": [
    "# Q7. person1 has same family as of person2, write a program to print relation between person1 and person2, if their\n",
    "##### data is [&#39;father name&#39;,&#39;mother name&#39;,&#39;district&#39;,&#39;family number&#39;] same (Print relation &#39;Siblings&#39;) also check person1\n",
    "##### data with person3 which is cousin of person1 (Print relation &#39;Cousin&#39;)\n",
    "##### Hint:\n",
    "##### Use identity operator"
   ]
  },
  {
   "cell_type": "code",
   "execution_count": 85,
   "id": "285626b1-8250-43cc-a9f3-6d79fa1450fc",
   "metadata": {},
   "outputs": [
    {
     "name": "stdout",
     "output_type": "stream",
     "text": [
      "2361172387136\n",
      "2361172387136\n",
      "2361197427072\n",
      "Siblings\n"
     ]
    }
   ],
   "source": [
    "\n",
    "person1_data = ['John', 'Jane', 'Springfield', '12345']\n",
    "person2_data = person1_data\n",
    "person3_data = ['Jack', 'Jill', 'Springfield', '67890']  \n",
    "\n",
    "print(id(person1_data))\n",
    "print(id(person2_data))\n",
    "print(id(person3_data))\n",
    "\n",
    "if person1_data is person2_data:\n",
    "    print(\"Siblings\")\n",
    "elif person1_data is person3_data:\n",
    "    print(\"Cousins\")\n",
    "\n",
    "else:\n",
    "    print(\"error\")\n"
   ]
  },
  {
   "cell_type": "markdown",
   "id": "6047d3c9-232c-4b6e-b8a9-1a3669adea59",
   "metadata": {},
   "source": [
    "# Q8. Write a Python program to store and display a book&#39;s title, author, year of publication, and price using a tuple.\n",
    "\n",
    "##### Instructions:\n",
    "##### Create a tuple to store the book details.\n",
    "##### Ask the user for the book&#39;s title, author, year, and price.\n",
    "##### Display the stored book information."
   ]
  },
  {
   "cell_type": "code",
   "execution_count": 19,
   "id": "6cba9ba6-9326-4b56-90d1-7e38f0b5b6f6",
   "metadata": {},
   "outputs": [
    {
     "name": "stdin",
     "output_type": "stream",
     "text": [
      "Enter the book's title:  Programing\n",
      "Enter the author's name:  Rao\n",
      "Enter the year of publication:  2024\n",
      "Enter the book's price:  2500\n"
     ]
    },
    {
     "name": "stdout",
     "output_type": "stream",
     "text": [
      "\n",
      "Stored Book Information:\n",
      "Title: Programing\n",
      "Author: Rao\n",
      "Year of Publication: 2024\n",
      "Price: Rs2500.00\n"
     ]
    }
   ],
   "source": [
    "title = input(\"Enter the book's title: \")\n",
    "author = input(\"Enter the author's name: \")\n",
    "year = input(\"Enter the year of publication: \")\n",
    "price = input(\"Enter the book's price: \")\n",
    "\n",
    "price = float(price)\n",
    "\n",
    "book_details = (title, author, year, price)\n",
    "\n",
    "print(\"\\nStored Book Information:\")\n",
    "print(\"Title:\", book_details[0])\n",
    "print(\"Author:\", book_details[1])\n",
    "print(\"Year of Publication:\", book_details[2])\n",
    "print(\"Price: Rs{:.2f}\".format(book_details[3]))\n"
   ]
  },
  {
   "cell_type": "markdown",
   "id": "d2784de2-a1ee-4bd1-8e5b-484db035c921",
   "metadata": {},
   "source": [
    "# Q9. Write a program to check if a user’s chosen subject is available in the list of offered subjects.\n",
    "##### Instructions:\n",
    "##### Given a list of subjects, ask the user to input a subject.\n",
    "##### Display whether the subject is available or not."
   ]
  },
  {
   "cell_type": "code",
   "execution_count": 21,
   "id": "aad618d6-04a3-4f1f-8f2d-7036b2d5bbac",
   "metadata": {},
   "outputs": [
    {
     "name": "stdin",
     "output_type": "stream",
     "text": [
      "Enter the subject you want to check:  biology\n"
     ]
    },
    {
     "name": "stdout",
     "output_type": "stream",
     "text": [
      "The subject biology is available.\n"
     ]
    }
   ],
   "source": [
    "offered_subjects = ['mathematics', 'physics', 'chemistry', 'biology', 'computer science', 'english']\n",
    "\n",
    "chosen_subject = input(\"Enter the subject you want to check: \")\n",
    "\n",
    "if chosen_subject.lower() in offered_subjects:\n",
    "    print(\"The subject \" + chosen_subject + \" is available.\")\n",
    "else:\n",
    "    print(\"The subject \" + chosen_subject + \" is not available.\")\n"
   ]
  },
  {
   "cell_type": "markdown",
   "id": "28ca36c6-b3b2-4f7c-96b8-77fd250939c8",
   "metadata": {},
   "source": [
    "# Q10. Write a Python program that performs the following tasks using tuple methods\n",
    "##### Create a tuple with multiple integer values, including duplicates.\n",
    "##### Prompt the user to input a number and find the index of its first occurrence in the tuple.\n",
    "##### Ask the user for another number and count how many times it appears in the tuple.\n",
    "##### Display appropriate messages based on the results"
   ]
  },
  {
   "cell_type": "code",
   "execution_count": 135,
   "id": "b8a31b23-25fd-4da5-8127-f3d959439cdc",
   "metadata": {},
   "outputs": [
    {
     "name": "stdin",
     "output_type": "stream",
     "text": [
      "Enter a number to find its first occurrence index in the tuple:  20\n"
     ]
    },
    {
     "name": "stdout",
     "output_type": "stream",
     "text": [
      "The number 20 first appears at index 1.\n"
     ]
    },
    {
     "name": "stdin",
     "output_type": "stream",
     "text": [
      "Enter another number to count how many times it appears in the tuple:  20\n"
     ]
    },
    {
     "name": "stdout",
     "output_type": "stream",
     "text": [
      "The number 20 appears 3 times in the tuple.\n"
     ]
    }
   ],
   "source": [
    "num_tuple = (10, 20, 30, 20, 40, 50, 20, 60)\n",
    "\n",
    "user = input(\"Enter a number to find its first occurrence index in the tuple: \")\n",
    "\n",
    "\n",
    "if user.isdigit():\n",
    "    user = int(user)  \n",
    "\n",
    "    if user in num_tuple:\n",
    "        index = num_tuple.index(user) \n",
    "        print(\"The number \" + str(user) + \" first appears at index \" + str(index) + \".\")\n",
    "    else:\n",
    "        print(\"The number \" + str(user) + \" is not present in the tuple.\")\n",
    "else:\n",
    "    print(\"Please enter a valid integer.\")\n",
    "\n",
    "user2 = input(\"Enter another number to count how many times it appears in the tuple: \")\n",
    "\n",
    "if user2.isdigit():\n",
    "    user2 = int(user2)  \n",
    "\n",
    "    count = num_tuple.count(user2)\n",
    "    print(\"The number \" + str(user2) + \" appears \" + str(count) + \" times in the tuple.\")\n",
    "else:\n",
    "    print(\"Please enter a valid integer.\")\n"
   ]
  },
  {
   "cell_type": "markdown",
   "id": "696b51ae-0b69-40c6-a130-d49a259cc1be",
   "metadata": {},
   "source": [
    "# Q11. \n",
    "##### Write a Python program that asks the user to enter the current temperature in Celsius and checks whether it&#39;s\n",
    "##### freezing, normal, or hot based on predefined temperature values.&quot;\n",
    "\n",
    "##### Assignment Requirements:\n",
    "##### Input: The user will be asked to enter the current temperature in Celsius.\n",
    "##### Predefined values:\n",
    "##### Freezing: -5\n",
    "##### Normal: 25\n",
    "##### Hot: 40"
   ]
  },
  {
   "cell_type": "code",
   "execution_count": 143,
   "id": "40c952fd-17c2-4a09-88a0-a0ab102e9fcd",
   "metadata": {},
   "outputs": [
    {
     "name": "stdin",
     "output_type": "stream",
     "text": [
      "Enter the current temperature in Celsius:  -5\n"
     ]
    },
    {
     "name": "stdout",
     "output_type": "stream",
     "text": [
      "The temperature is freezing.\n"
     ]
    }
   ],
   "source": [
    "freezing_temp = -5\n",
    "normal_temp = 25\n",
    "hot_temp = 40\n",
    "\n",
    "current_temp = float(input(\"Enter the current temperature in Celsius: \"))\n",
    "\n",
    "if current_temp <= freezing_temp:\n",
    "    print(\"The temperature is freezing.\")\n",
    "elif current_temp <= normal_temp:\n",
    "    print(\"The temperature is normal.\")\n",
    "elif current_temp >= hot_temp:\n",
    "    print(\"The temperature is hot.\")\n",
    "else:\n",
    "    print(\"The temperature is within the normal range.\")\n"
   ]
  },
  {
   "cell_type": "code",
   "execution_count": null,
   "id": "4172a603-359b-48ca-b6f2-fae75a3de6a9",
   "metadata": {},
   "outputs": [],
   "source": []
  }
 ],
 "metadata": {
  "kernelspec": {
   "display_name": "Python 3 (ipykernel)",
   "language": "python",
   "name": "python3"
  },
  "language_info": {
   "codemirror_mode": {
    "name": "ipython",
    "version": 3
   },
   "file_extension": ".py",
   "mimetype": "text/x-python",
   "name": "python",
   "nbconvert_exporter": "python",
   "pygments_lexer": "ipython3",
   "version": "3.12.7"
  }
 },
 "nbformat": 4,
 "nbformat_minor": 5
}
