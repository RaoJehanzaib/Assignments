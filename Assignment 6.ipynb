{
 "cells": [
  {
   "cell_type": "markdown",
   "id": "5be8f544-9046-4479-82a3-3a154a584b3e",
   "metadata": {},
   "source": [
    "# Question 1:\n",
    "##### In a transportation system, we have two classes:\n",
    "#####  ElectricVehicle: A class that has a method charge() to charge the vehicle.\n",
    "#####  GasolineVehicle: A class that has a method fuel_up() to refuel the vehicle.\n",
    "##### Create a class HybridCar that inherits from both ElectricVehicle and GasolineVehicle. The HybridCar\n",
    "##### class should have a method drive() that prints a message showing the car is being driven. Instantiate\n",
    "##### an object of class HybridCar and demonstrate the usage of charge(), fuel_up(), and drive().\n",
    "##### Expected Output:\n",
    "#####  Charging the electric vehicle.\n",
    "#####  Filling up the gasoline tank.\n",
    "#####  Driving the hybrid car."
   ]
  },
  {
   "cell_type": "code",
   "execution_count": 2,
   "id": "630f2bdd-d484-4d1c-87c9-9087806f980f",
   "metadata": {},
   "outputs": [
    {
     "name": "stdout",
     "output_type": "stream",
     "text": [
      "Charging the electric vehicle.\n",
      "Filling up the gasoline tank.\n",
      "Driving the hybrid car.\n"
     ]
    }
   ],
   "source": [
    "class ElectricVehicle:\n",
    "    def charge(self):\n",
    "        print(\"Charging the electric vehicle.\")\n",
    "\n",
    "class GasolineVehicle:\n",
    "    def fuel_up(self):\n",
    "        print(\"Filling up the gasoline tank.\")\n",
    "\n",
    "class HybridCar(ElectricVehicle, GasolineVehicle):\n",
    "    def drive(self):\n",
    "        print(\"Driving the hybrid car.\")\n",
    "\n",
    "hybrid = HybridCar()\n",
    "\n",
    "hybrid.charge()    \n",
    "hybrid.fuel_up()  \n",
    "hybrid.drive()     \n"
   ]
  },
  {
   "cell_type": "markdown",
   "id": "eac9b3a9-9868-4960-8b7b-d3a51229479c",
   "metadata": {},
   "source": [
    "# Question 2:\n",
    "##### Create a class Animal with a method make_sound(), which prints &quot;Animal makes a sound&quot;. Then,\n",
    "##### create two subclasses:\n",
    "#####  Lion: Override the make_sound() method to print &quot;Roar&quot;.\n",
    "#####  Cat: Override the make_sound() method to print &quot;Meow&quot;.\n",
    "##### Demonstrate polymorphism by calling make_sound() on instances of Lion and Cat."
   ]
  },
  {
   "cell_type": "code",
   "execution_count": 5,
   "id": "4e9f8f1c-08a2-412f-bbae-664650bec8e6",
   "metadata": {},
   "outputs": [
    {
     "name": "stdout",
     "output_type": "stream",
     "text": [
      "Roar\n",
      "Meow\n"
     ]
    }
   ],
   "source": [
    "class Animal:\n",
    "    def make_sound(self):\n",
    "        print(\"Animal makes a sound\")\n",
    "\n",
    "class Lion(Animal):\n",
    "    def make_sound(self):\n",
    "        print(\"Roar\")\n",
    "\n",
    "class Cat(Animal):\n",
    "    def make_sound(self):\n",
    "        print(\"Meow\")\n",
    "\n",
    "lion = Lion()\n",
    "cat = Cat()\n",
    "\n",
    "lion.make_sound() \n",
    "cat.make_sound()   \n"
   ]
  },
  {
   "cell_type": "markdown",
   "id": "95349d12-c59b-4c9a-81a0-f064d54d7a9c",
   "metadata": {},
   "source": [
    "# Question 3:\n",
    "##### Create an abstract class SmartHomeDevice with two abstract methods:\n",
    "#####  turn_on() (to turn the device on)\n",
    "#####  turn_off() (to turn the device off)\n",
    "##### Then, create a Light class that inherits from SmartHomeDevice. Implement the methods turn_on()\n",
    "##### and turn_off() for a light device. The turn_on() method should print &quot;Light is ON&quot;, and the turn_off()\n",
    "##### method should print &quot;Light is OFF&quot;.\n",
    "##### Write a Python program to control the light device in a smart home.\n",
    "##### Expected Output:\n",
    "#####  Turning on the light...\n",
    "#####  Light is ON\n",
    "#####  Turning off the light...\n",
    "#####  Light is OFF"
   ]
  },
  {
   "cell_type": "code",
   "execution_count": 8,
   "id": "03113f40-6d13-460f-919c-d5d03cc050db",
   "metadata": {},
   "outputs": [
    {
     "name": "stdout",
     "output_type": "stream",
     "text": [
      "Turning on the light...\n",
      "Light is ON\n",
      "Turning off the light...\n",
      "Light is OFF\n"
     ]
    }
   ],
   "source": [
    "class SmartHomeDevice:\n",
    "    \n",
    "    def turn_on(self):\n",
    "        print(\"This method should be implemented by subclass.\")\n",
    "    \n",
    "    def turn_off(self):\n",
    "        print(\"This method should be implemented by subclass.\")\n",
    "\n",
    "class Light(SmartHomeDevice):\n",
    "    \n",
    "    def turn_on(self):\n",
    "        print(\"Light is ON\")\n",
    "    \n",
    "    def turn_off(self):\n",
    "        print(\"Light is OFF\")\n",
    "\n",
    "light = Light()\n",
    "\n",
    "print(\"Turning on the light...\")\n",
    "light.turn_on()   \n",
    "\n",
    "print(\"Turning off the light...\")\n",
    "light.turn_off() \n"
   ]
  },
  {
   "cell_type": "markdown",
   "id": "799165c5-5687-4924-85f0-38ced0840e90",
   "metadata": {},
   "source": [
    "# Question 4:\n",
    "##### Create a class Greeting with a method greet() that can handle different numbers of arguments.\n",
    "#####  If no argument is passed, it should print &quot;Hello!&quot;.\n",
    "#####  If one argument (a name) is passed, it should print &quot;Hello, !&quot;.\n",
    "#####  If two arguments (a name and a greeting) are passed, it should print the greeting with the\n",
    "##### name (e.g., &quot;Good morning, !&quot;).\n",
    "##### Simulate method overloading using default arguments or variable-length arguments, and\n",
    "##### demonstrate the polymorphic behavior by calling greet() with different numbers of arguments.\n",
    "##### Expected Output:\n",
    "#####  Hello!\n",
    "#####  Hello, John!\n",
    "#####  Good morning, John!"
   ]
  },
  {
   "cell_type": "code",
   "execution_count": 11,
   "id": "19ceefb3-0e35-49d0-a541-d39d5656e20c",
   "metadata": {},
   "outputs": [
    {
     "name": "stdout",
     "output_type": "stream",
     "text": [
      "Hello!\n",
      "Hello, John!\n",
      "Good morning, John!\n"
     ]
    }
   ],
   "source": [
    "class Greeting:\n",
    "    \n",
    "    def greet(self, *args):\n",
    "        if len(args) == 0:\n",
    "            print(\"Hello!\")\n",
    "        elif len(args) == 1:\n",
    "            print(f\"Hello, {args[0]}!\")\n",
    "        elif len(args) == 2:\n",
    "            print(f\"{args[0]}, {args[1]}!\")\n",
    "        else:\n",
    "            print(\"Too many arguments!\")\n",
    "\n",
    "greeting = Greeting()\n",
    "\n",
    "greeting.greet()              \n",
    "greeting.greet(\"John\")        \n",
    "greeting.greet(\"Good morning\", \"John\") \n"
   ]
  },
  {
   "cell_type": "code",
   "execution_count": null,
   "id": "eb9a0fce-32fe-4f22-a3d6-5242c6df3380",
   "metadata": {},
   "outputs": [],
   "source": [
    "# Question 5:\n",
    "# Create a class CarRental to manage the rental of cars.\n",
    "#  The class should have private attributes for the car&#39;s name, price per day, and the number of\n",
    "# rental days.\n",
    "#  Create a method to calculate the total rental cost and a method to set the rental days.\n",
    "#  Use getter and setter methods for modifying and accessing the car&#39;s information.\n",
    "# Demonstrate encapsulation by creating an object of CarRental and calculating the total rental cost.\n",
    "# Expected Output:\n",
    "#  Car Name: Toyota Camry\n",
    "#  Price Per Day: $50\n",
    "#  Rental Days: 5\n",
    "#  Total Rental Cost: $250"
   ]
  },
  {
   "cell_type": "code",
   "execution_count": 33,
   "id": "19efb0db-299b-46b6-b369-82e680aeec3d",
   "metadata": {},
   "outputs": [
    {
     "name": "stdout",
     "output_type": "stream",
     "text": [
      "Car Name: Toyota Yaris\n",
      "Price Per Day: $50\n",
      "Rental Days: 5\n",
      "Total Rental Cost: $250\n"
     ]
    }
   ],
   "source": [
    "class CarRental:\n",
    "    def __init__(self, name, price_per_day):\n",
    "        # Private attributes\n",
    "        self.__name = name\n",
    "        self.__price_per_day = price_per_day\n",
    "        self.__rental_days = 0  \n",
    "\n",
    "    def get_name(self):\n",
    "        return self.__name\n",
    "\n",
    "    def get_price_per_day(self):\n",
    "        return self.__price_per_day\n",
    "\n",
    "    def get_rental_days(self):\n",
    "        return self.__rental_days\n",
    "\n",
    "    def set_rental_days(self, rental_days):\n",
    "        if rental_days > 0:\n",
    "            self.__rental_days = rental_days\n",
    "        else:\n",
    "            print(\"Rental days must be greater than 0.\")\n",
    "\n",
    "    def calculate_total_cost(self):\n",
    "        return self.__price_per_day * self.__rental_days\n",
    "\n",
    "car_rental = CarRental(\"Toyota Yaris\", 50)\n",
    "\n",
    "car_rental.set_rental_days(5)\n",
    "\n",
    "print(f\"Car Name: {car_rental.get_name()}\")\n",
    "print(f\"Price Per Day: ${car_rental.get_price_per_day()}\")\n",
    "print(f\"Rental Days: {car_rental.get_rental_days()}\")\n",
    "print(f\"Total Rental Cost: ${car_rental.calculate_total_cost()}\")\n"
   ]
  },
  {
   "cell_type": "code",
   "execution_count": null,
   "id": "1fe500b7-d9df-4dad-a033-ee9ef23bee78",
   "metadata": {},
   "outputs": [],
   "source": []
  }
 ],
 "metadata": {
  "kernelspec": {
   "display_name": "Python 3 (ipykernel)",
   "language": "python",
   "name": "python3"
  },
  "language_info": {
   "codemirror_mode": {
    "name": "ipython",
    "version": 3
   },
   "file_extension": ".py",
   "mimetype": "text/x-python",
   "name": "python",
   "nbconvert_exporter": "python",
   "pygments_lexer": "ipython3",
   "version": "3.12.7"
  }
 },
 "nbformat": 4,
 "nbformat_minor": 5
}
