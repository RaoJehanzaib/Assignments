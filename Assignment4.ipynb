{
 "cells": [
  {
   "cell_type": "markdown",
   "id": "49844a5f-abd6-4664-b12a-f620c031cfde",
   "metadata": {},
   "source": [
    "# Q1. my_tuple = ( (1, 2, 3), [4, 5, 6], (&#39;apple&#39;, &#39;banana&#39;, &#39;cherry&#39;), [7, 8, 9] )\n",
    "##### • Print all elements from my_tuple on a new line (using for loop)\n",
    "##### • Create a new tuple by concatenating the first and last elements of my_tuple"
   ]
  },
  {
   "cell_type": "code",
   "execution_count": 4,
   "id": "a36508b4-a549-4217-a321-999bbf70b124",
   "metadata": {},
   "outputs": [
    {
     "name": "stdout",
     "output_type": "stream",
     "text": [
      "(1, 2, 3)\n",
      "[4, 5, 6]\n",
      "('apple', 'banana', 'cherry')\n",
      "[7, 8, 9]\n",
      "\n",
      "New Tuple: (1, 2, 3, 7, 8, 9)\n"
     ]
    }
   ],
   "source": [
    "my_tuple = ( (1, 2, 3), [4, 5, 6], ('apple', 'banana', 'cherry'), [7, 8, 9] )\n",
    "\n",
    "for element in my_tuple:\n",
    "    print(element)\n",
    "\n",
    "\n",
    "new_tuple = my_tuple[0] + tuple(my_tuple[-1])  \n",
    "print(\"\\nNew Tuple:\", new_tuple)\n"
   ]
  },
  {
   "cell_type": "markdown",
   "id": "43332438-dbeb-444c-8519-e5e15ac9115a",
   "metadata": {},
   "source": [
    "# Q2. inventory = { &quot;The Great Gatsby&quot;: {&quot;price&quot;: 10.99, &quot;quantity&quot;: 5}, &quot;Rich dad poor dad&quot;: {&quot;price&quot; 8.99, &quot;quantity&quot;: 8}, &quot;Harry Potter&quot;: {&quot;price&quot;: 12.50, &quot;quantity&quot;: 2}, }\n",
    "##### • Add a new book in inventory using method and get all book titles using method\n",
    "##### • Remove a book if it&#39;s out of stock"
   ]
  },
  {
   "cell_type": "code",
   "execution_count": 8,
   "id": "32ead5b8-a049-47f1-978e-782ab6b5e5f9",
   "metadata": {},
   "outputs": [
    {
     "name": "stdout",
     "output_type": "stream",
     "text": [
      "All book titles: ['The Great Gatsby', 'Rich dad poor dad', 'Harry Potter', 'The Catcher in the Rye']\n",
      "\n",
      "Updated Inventory: {'The Great Gatsby': {'price': 10.99, 'quantity': 5}, 'Rich dad poor dad': {'price': 8.99, 'quantity': 8}, 'The Catcher in the Rye': {'price': 14.99, 'quantity': 4}}\n"
     ]
    }
   ],
   "source": [
    "inventory = {\n",
    "    \"The Great Gatsby\": {\"price\": 10.99, \"quantity\": 5},\n",
    "    \"Rich dad poor dad\": {\"price\": 8.99, \"quantity\": 8},\n",
    "    \"Harry Potter\": {\"price\": 12.50, \"quantity\": 2},\n",
    "}\n",
    "\n",
    "inventory[\"The Catcher in the Rye\"] = {\"price\": 14.99, \"quantity\": 4}\n",
    "\n",
    "book_titles = list(inventory.keys())\n",
    "print(\"All book titles:\", book_titles)\n",
    "\n",
    "inventory[\"Harry Potter\"][\"quantity\"] = 0  \n",
    "\n",
    "for book in list(inventory.keys()):  \n",
    "    if inventory[book][\"quantity\"] == 0:\n",
    "        del inventory[book]\n",
    "\n",
    "print(\"\\nUpdated Inventory:\", inventory)\n"
   ]
  },
  {
   "cell_type": "markdown",
   "id": "d8837427-a862-49fe-9e3a-b9efd136b0db",
   "metadata": {},
   "source": [
    "# Q3. An ecommerce store stores information about its products in a nested dictionary. The outer\n",
    "##### dictionary uses product IDs as keys, and the inner dictionary stores product details like name,\n",
    "##### category, price, and stock quantity.\n",
    "##### products = { 101: {&quot;name&quot;: &quot;Laptop&quot;, &quot;category&quot;: &quot;Electronics&quot;, &quot;price&quot;: 1200, &quot;stock&quot;: 50}, 102:\n",
    "##### {&quot;name&quot;: &quot;Shirt&quot;, &quot;category&quot;: &quot;Apparel&quot;, &quot;price&quot;: 25, &quot;stock&quot;: 200}, 103: {&quot;name&quot;: &quot;Coffee Maker&quot;,\n",
    "##### &quot;category&quot;: &quot;Home Appliances&quot;, &quot;price&quot;: 80, &quot;stock&quot;: 30} }\n",
    "##### • Increase the stock of the &quot;Shirt&quot; product (add 50 more units)\n",
    "##### • Add a new product (e.g., &quot;Smartphone&quot;)"
   ]
  },
  {
   "cell_type": "code",
   "execution_count": 11,
   "id": "eeed9280-acd7-4c6a-ade8-f865649dc04d",
   "metadata": {},
   "outputs": [
    {
     "name": "stdout",
     "output_type": "stream",
     "text": [
      "Updated Products: {101: {'name': 'Laptop', 'category': 'Electronics', 'price': 1200, 'stock': 50}, 102: {'name': 'Shirt', 'category': 'Apparel', 'price': 25, 'stock': 250}, 103: {'name': 'Coffee Maker', 'category': 'Home Appliances', 'price': 80, 'stock': 30}, 104: {'name': 'Smartphone', 'category': 'Electronics', 'price': 700, 'stock': 100}}\n"
     ]
    }
   ],
   "source": [
    "products = {\n",
    "    101: {\"name\": \"Laptop\", \"category\": \"Electronics\", \"price\": 1200, \"stock\": 50},\n",
    "    102: {\"name\": \"Shirt\", \"category\": \"Apparel\", \"price\": 25, \"stock\": 200},\n",
    "    103: {\"name\": \"Coffee Maker\", \"category\": \"Home Appliances\", \"price\": 80, \"stock\": 30},\n",
    "}\n",
    "\n",
    "products[102][\"stock\"] += 50  \n",
    "\n",
    "\n",
    "products[104] = {\n",
    "    \"name\": \"Smartphone\",\n",
    "    \"category\": \"Electronics\",\n",
    "    \"price\": 700,\n",
    "    \"stock\": 100,\n",
    "}\n",
    "\n",
    "\n",
    "print(\"Updated Products:\", products)\n"
   ]
  },
  {
   "cell_type": "markdown",
   "id": "5b9ae326-4bd7-42a2-a10b-1ea5ade2b9cf",
   "metadata": {},
   "source": [
    "# Q4. You are given a list that contains some duplicate items. Remove the duplicates by converting the\n",
    "##### list to a set.\n",
    "##### shopping_list = [&quot;apple&quot;, &quot;banana&quot;, &quot;apple&quot;, &quot;orange&quot;, &quot;banana&quot;, &quot;grape&quot;]"
   ]
  },
  {
   "cell_type": "code",
   "execution_count": 14,
   "id": "a5ebb916-132b-4f6e-8d25-ee31e5c6ba7b",
   "metadata": {},
   "outputs": [
    {
     "name": "stdout",
     "output_type": "stream",
     "text": [
      "Unique items: {'grape', 'orange', 'apple', 'banana'}\n"
     ]
    }
   ],
   "source": [
    "shopping_list = [\"apple\", \"banana\", \"apple\", \"orange\", \"banana\", \"grape\"]\n",
    "\n",
    "unique_items = set(shopping_list)\n",
    "\n",
    "\n",
    "print(\"Unique items:\", unique_items)\n"
   ]
  },
  {
   "cell_type": "markdown",
   "id": "f87393d3-f244-44bb-8e1d-52324bd4a9a9",
   "metadata": {},
   "source": [
    "# Q5. You are managing a list of students enrolled in two different courses. You need to perform\n",
    "##### various set operations to understand the student enrollment. Task: Create two sets: one for students\n",
    "##### in &quot;Course A&quot; and one for students in &quot;Course B&quot;. Find the students who are in &quot;Course A&quot; but not in\n",
    "##### &quot;Course B&quot; (difference). Find students who are only in one of the two courses (symmetric\n",
    "##### difference). course_a = {&quot;John&quot;, &quot;Alice&quot;, &quot;Bob&quot;, &quot;David&quot;} course_b = {&quot;Alice&quot;, &quot;Eve&quot;, &quot;Charlie&quot;,\n",
    "##### &quot;David&quot;}\n",
    "##### • Find students who are in Course A but not in Course B (difference)\n",
    "##### • Find students who are only in one of the two courses (symmetric difference)"
   ]
  },
  {
   "cell_type": "code",
   "execution_count": 17,
   "id": "faefa4f2-5a2d-4c7d-962e-eb29f692ad81",
   "metadata": {},
   "outputs": [
    {
     "name": "stdout",
     "output_type": "stream",
     "text": [
      "Students in Course A but not in Course B: {'Bob', 'John'}\n",
      "Students only in one of the two courses: {'Eve', 'Charlie', 'Bob', 'John'}\n"
     ]
    }
   ],
   "source": [
    "course_a = {\"John\", \"Alice\", \"Bob\", \"David\"}\n",
    "course_b = {\"Alice\", \"Eve\", \"Charlie\", \"David\"}\n",
    "\n",
    "students_in_a_not_b = course_a - course_b\n",
    "\n",
    "\n",
    "students_in_one_course_only = course_a ^ course_b  \n",
    "\n",
    "\n",
    "print(\"Students in Course A but not in Course B:\", students_in_a_not_b)\n",
    "print(\"Students only in one of the two courses:\", students_in_one_course_only)\n"
   ]
  },
  {
   "cell_type": "markdown",
   "id": "a5e77260-0914-48c6-823b-a8e8cebe2b5c",
   "metadata": {},
   "source": [
    "# Q6. Write a Python program that calculates the sum of all even numbers between 1 and 50\n",
    "##### (inclusive) using a for loop.\n",
    "##### Hint\n",
    "##### 1. Initialize a variable to hold the sum (e.g., sum_of_evens).\n",
    "##### 2. Use a for loop to iterate through all numbers from 1 to 50.\n",
    "##### 3. Inside the loop, check if the number is even.\n",
    "##### 4. If the number is even, add it to sum_of_evens.\n",
    "##### 5. After the loop finishes, print the total sum of all even numbers between 1 and 50."
   ]
  },
  {
   "cell_type": "code",
   "execution_count": 20,
   "id": "942bf98c-9ab9-4262-8732-41021513efdb",
   "metadata": {},
   "outputs": [
    {
     "name": "stdout",
     "output_type": "stream",
     "text": [
      "Sum of all even numbers between 1 and 50: 650\n"
     ]
    }
   ],
   "source": [
    "sum_of_evens = 0\n",
    "\n",
    "\n",
    "for number in range(1, 51):\n",
    "   \n",
    "    if number % 2 == 0:\n",
    "       \n",
    "        sum_of_evens += number\n",
    "\n",
    "print(\"Sum of all even numbers between 1 and 50:\", sum_of_evens)\n"
   ]
  },
  {
   "cell_type": "markdown",
   "id": "b23565de-b64d-4cd4-bedb-8b873e8c5178",
   "metadata": {},
   "source": [
    "# Q7. Write a Python program that prints the multiplication table for a given number (between 1 and\n",
    "# 10) using a for loop.\n",
    "\n",
    "##### Hint:\n",
    "##### 1. Ask the user for a number between 1 and 10 .\n",
    "##### 2. Use a for loop to iterate through the numbers from 1 to 10.\n",
    "##### 3. For each iteration, calculate the product of the given number and the current number in the\n",
    "##### loop.\n",
    "##### 4. Print the result in a readable format (e.g., 5 x 1 = 5).\n",
    "##### 5. Ensure the program works correctly for any number between 1 and 10.\n",
    "\n",
    "##### Output Hint:\n",
    "##### 4 x 1 = 4\n",
    "##### 4 x 2 = 8\n",
    "##### 4 x 3 = 12\n",
    "##### 4 x 4 = 16\n",
    "##### 4 x 5 = 20\n",
    "##### 4 x 6 = 24\n",
    "##### 4 x 7 = 28\n",
    "##### 4 x 8 = 32\n",
    "##### 4 x 9 = 36\n",
    "##### 4 x 10 = 40"
   ]
  },
  {
   "cell_type": "code",
   "execution_count": 23,
   "id": "ca49211b-85a3-4862-8fa2-678cac772ad2",
   "metadata": {},
   "outputs": [
    {
     "name": "stdin",
     "output_type": "stream",
     "text": [
      "Enter a number between 1 and 10:  6\n"
     ]
    },
    {
     "name": "stdout",
     "output_type": "stream",
     "text": [
      "6 x 1 = 6\n",
      "6 x 2 = 12\n",
      "6 x 3 = 18\n",
      "6 x 4 = 24\n",
      "6 x 5 = 30\n",
      "6 x 6 = 36\n",
      "6 x 7 = 42\n",
      "6 x 8 = 48\n",
      "6 x 9 = 54\n",
      "6 x 10 = 60\n"
     ]
    }
   ],
   "source": [
    "number = int(input(\"Enter a number between 1 and 10: \"))\n",
    "\n",
    "if 1 <= number <= 10:\n",
    " \n",
    "    for i in range(1, 11):\n",
    "        product = number * i\n",
    "        print(f\"{number} x {i} = {product}\")\n",
    "else:\n",
    "    print(\"Please enter a number between 1 and 10.\")\n"
   ]
  },
  {
   "cell_type": "markdown",
   "id": "0902efc6-b74d-433b-8610-cfdb9c816c92",
   "metadata": {},
   "source": [
    "# Q8. Power of a Number\n",
    "##### Write a Python program that takes a number and prints the powers of the number (starting from 1\n",
    "##### to 10) using a while loop. For example, if the user inputs 3, the output should be:\n",
    "##### 3^1 = 3\n",
    "##### 3^2 = 9\n",
    "##### 3^3 = 27\n",
    "##### ... up to 3^10."
   ]
  },
  {
   "cell_type": "code",
   "execution_count": 26,
   "id": "f95b9f17-026f-4d3c-aa84-5f1275d71f54",
   "metadata": {},
   "outputs": [
    {
     "name": "stdin",
     "output_type": "stream",
     "text": [
      "Enter a number:  5\n"
     ]
    },
    {
     "name": "stdout",
     "output_type": "stream",
     "text": [
      "5^1 = 5\n",
      "5^2 = 25\n",
      "5^3 = 125\n",
      "5^4 = 625\n",
      "5^5 = 3125\n",
      "5^6 = 15625\n",
      "5^7 = 78125\n",
      "5^8 = 390625\n",
      "5^9 = 1953125\n",
      "5^10 = 9765625\n"
     ]
    }
   ],
   "source": [
    "number = int(input(\"Enter a number: \"))\n",
    "\n",
    "exponent = 1\n",
    "\n",
    "while exponent <= 10:\n",
    "    power = number ** exponent  \n",
    "    print(f\"{number}^{exponent} = {power}\")\n",
    "    exponent += 1  \n"
   ]
  },
  {
   "cell_type": "markdown",
   "id": "d92c61d7-4c61-48ef-98df-438a3781c2ff",
   "metadata": {},
   "source": [
    "# Q9. Problem Statement: Write a Python program that takes an integer input from the user and\n",
    "##### counts down from that number to 0. The program should display the current number at each step\n",
    "##### until it reaches 0, at which point it should print a message indicating the countdown is finished\n",
    "##### Output Hint:\n",
    "##### Enter a number to start the countdown: 3\n",
    "##### 3\n",
    "##### 2\n",
    "##### 1\n",
    "##### 0\n",
    "##### Countdown finished!"
   ]
  },
  {
   "cell_type": "code",
   "execution_count": 31,
   "id": "dad318d0-7683-4f75-bf7c-8e04cd7cdcf4",
   "metadata": {},
   "outputs": [
    {
     "name": "stdin",
     "output_type": "stream",
     "text": [
      "Enter a number to start the countdown:  4\n"
     ]
    },
    {
     "name": "stdout",
     "output_type": "stream",
     "text": [
      "4\n",
      "3\n",
      "2\n",
      "1\n",
      "0\n",
      "Countdown finished!\n"
     ]
    }
   ],
   "source": [
    "number = int(input(\"Enter a number to start the countdown: \"))\n",
    "\n",
    "while number >= 0:\n",
    "    print(number)  \n",
    "    number -= 1  \n",
    "\n",
    "print(\"Countdown finished!\")\n"
   ]
  },
  {
   "cell_type": "markdown",
   "id": "5cfb5ca1-8529-4768-9c08-5de39335cc18",
   "metadata": {},
   "source": [
    "# Q10. Write a Python program that takes an integer input n from the user and generates a right-\n",
    "##### angled triangle pattern of stars (*) with n rows. The first row should contain 1 star, the second row 2\n",
    "##### stars, the third row 3 stars, and so on until the nth row.\n",
    "##### Ensure the stars in each row are separated by spaces, and each row starts on a new line.\n",
    "##### # Pattern:\n",
    "##### *\n",
    "##### **\n",
    "##### ***\n",
    "##### ****\n",
    "##### *****"
   ]
  },
  {
   "cell_type": "code",
   "execution_count": 42,
   "id": "f5b1a0a9-44f1-4f9f-8f65-39ba0f2df094",
   "metadata": {},
   "outputs": [
    {
     "name": "stdin",
     "output_type": "stream",
     "text": [
      "Enter the number of rows for the triangle:  10\n"
     ]
    },
    {
     "name": "stdout",
     "output_type": "stream",
     "text": [
      "*\n",
      "* *\n",
      "* * *\n",
      "* * * *\n",
      "* * * * *\n",
      "* * * * * *\n",
      "* * * * * * *\n",
      "* * * * * * * *\n",
      "* * * * * * * * *\n",
      "* * * * * * * * * *\n"
     ]
    }
   ],
   "source": [
    "n = int(input(\"Enter the number of rows for the triangle: \"))\n",
    "\n",
    "for i in range(1, n + 1):\n",
    "    \n",
    "    print(\" \" .join([\"*\"] * i))\n"
   ]
  },
  {
   "cell_type": "code",
   "execution_count": null,
   "id": "b7b082c6-f62f-4e04-bca3-73629b724f84",
   "metadata": {},
   "outputs": [],
   "source": []
  }
 ],
 "metadata": {
  "kernelspec": {
   "display_name": "Python 3 (ipykernel)",
   "language": "python",
   "name": "python3"
  },
  "language_info": {
   "codemirror_mode": {
    "name": "ipython",
    "version": 3
   },
   "file_extension": ".py",
   "mimetype": "text/x-python",
   "name": "python",
   "nbconvert_exporter": "python",
   "pygments_lexer": "ipython3",
   "version": "3.12.7"
  }
 },
 "nbformat": 4,
 "nbformat_minor": 5
}
